{
 "cells": [
  {
   "cell_type": "code",
   "execution_count": null,
   "id": "d73ebc25-3d94-4a67-8a6c-765d7584564c",
   "metadata": {},
   "outputs": [],
   "source": [
    "from utils import prepare_patches_parallel, plot_patches"
   ]
  },
  {
   "cell_type": "code",
   "execution_count": null,
   "id": "cf5b948e-26cd-4eca-828b-c0a93a5af07b",
   "metadata": {},
   "outputs": [],
   "source": [
    "vectors, patches, labels = prepare_patches_parallel()"
   ]
  },
  {
   "cell_type": "code",
   "execution_count": null,
   "id": "325f371d-7a14-4859-82b5-6d9256f27bd9",
   "metadata": {},
   "outputs": [],
   "source": [
    "app = plot_patches(vectors, patches, labels)"
   ]
  },
  {
   "cell_type": "code",
   "execution_count": null,
   "id": "e298c83d-4dca-42e2-b15c-4f29ac8766eb",
   "metadata": {},
   "outputs": [],
   "source": [
    "app.run_server(debug=True)"
   ]
  },
  {
   "cell_type": "code",
   "execution_count": null,
   "id": "50eabbfb-cd2a-456b-96a3-07f0fa350785",
   "metadata": {},
   "outputs": [],
   "source": []
  }
 ],
 "metadata": {
  "kernelspec": {
   "display_name": "gridrad",
   "language": "python",
   "name": "gridrad"
  },
  "language_info": {
   "codemirror_mode": {
    "name": "ipython",
    "version": 3
   },
   "file_extension": ".py",
   "mimetype": "text/x-python",
   "name": "python",
   "nbconvert_exporter": "python",
   "pygments_lexer": "ipython3",
   "version": "3.12.9"
  }
 },
 "nbformat": 4,
 "nbformat_minor": 5
}
