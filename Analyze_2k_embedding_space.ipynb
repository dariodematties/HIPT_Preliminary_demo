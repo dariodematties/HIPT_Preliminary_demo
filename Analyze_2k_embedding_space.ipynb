{
 "cells": [
  {
   "cell_type": "code",
   "execution_count": null,
   "id": "004930c1-eb66-47c2-be2a-18d262be76d9",
   "metadata": {},
   "outputs": [],
   "source": [
    "from utils import prepare_crops_parallel, plot_crops"
   ]
  },
  {
   "cell_type": "code",
   "execution_count": null,
   "id": "cc29a33b-a1a6-4ed8-a5d6-28cb17dd5f64",
   "metadata": {},
   "outputs": [],
   "source": [
    "vectors, crops, labels = prepare_crops_parallel()"
   ]
  },
  {
   "cell_type": "code",
   "execution_count": null,
   "id": "7d42a1d4-425e-4879-bbc4-33d04cd349ce",
   "metadata": {},
   "outputs": [],
   "source": [
    "app = plot_crops(vectors, crops, labels)"
   ]
  },
  {
   "cell_type": "code",
   "execution_count": null,
   "id": "72fd0a4a-4cf4-45d3-ab5a-e41007b2c04c",
   "metadata": {},
   "outputs": [],
   "source": [
    "app.run_server(debug=True)"
   ]
  },
  {
   "cell_type": "code",
   "execution_count": null,
   "id": "3ef80f96-c2f0-4da2-886e-6233d649bab8",
   "metadata": {},
   "outputs": [],
   "source": []
  }
 ],
 "metadata": {
  "kernelspec": {
   "display_name": "gridrad",
   "language": "python",
   "name": "gridrad"
  },
  "language_info": {
   "codemirror_mode": {
    "name": "ipython",
    "version": 3
   },
   "file_extension": ".py",
   "mimetype": "text/x-python",
   "name": "python",
   "nbconvert_exporter": "python",
   "pygments_lexer": "ipython3",
   "version": "3.12.9"
  }
 },
 "nbformat": 4,
 "nbformat_minor": 5
}
